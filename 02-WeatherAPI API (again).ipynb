{
 "cells": [
  {
   "cell_type": "markdown",
   "metadata": {},
   "source": [
    "# WeatherAPI (WeatherAPI, hiding API keys)\n",
    "\n",
    "Answer the following questions using [WeatherAPI](http://www.weatherapi.com/). It's a smaller assignment than the last weather one, and mostly serves to get you used to creating API urls and using `python-dotenv`.\n",
    "\n",
    "Hold `Shift` and hit `Enter` to run a cell, and use the `+` on the top left to add a new cell to a notebook. Be sure to take advantage of both the documentation and the API Explorer!\n",
    "\n",
    "## 0) Import any libraries you might need\n",
    "\n",
    "- *Tip: We're going to be downloading things from the internet, so we probably need `requests`.*\n",
    "- *Tip: Remember you only need to import requests once!*"
   ]
  },
  {
   "cell_type": "code",
   "execution_count": null,
   "metadata": {},
   "outputs": [],
   "source": [
    "/Users/masashi-ijichi/Documents/lede-2024/homework/.env"
   ]
  },
  {
   "cell_type": "code",
   "execution_count": null,
   "metadata": {},
   "outputs": [],
   "source": []
  },
  {
   "cell_type": "markdown",
   "metadata": {},
   "source": [
    "## 1) Use the `python-dotenv` package to import your WeatherAPI API key\n",
    "\n",
    "We're going to be posting this code on the internet, so we'll want to hide your API keys! We don't want people to steal our keys and get rich while we're stuck with the bell.\n",
    "\n",
    "Take a look at [this video](https://www.youtube.com/watch?v=YdgIWTYQ69A) about how to hide API keys from public view while still using them. It involves creating a separate `.env` file (use either VS Code or create it using Jupyter) that includes your API key, then importing it with [python-dotenv](https://github.com/theskumar/python-dotenv).\n",
    "\n",
    "Save this as a variable called `API_KEY`.\n",
    "\n",
    "**You don't have to do the GitHub part of it today since we didn't get to that in class! You can watch that part if you want, though.**"
   ]
  },
  {
   "cell_type": "code",
   "execution_count": 37,
   "metadata": {},
   "outputs": [],
   "source": [
    "from dotenv import load_dotenv\n",
    "import \n",
    "load_dotenv()\n",
    "\n",
    "api_key = os.getenv(\"API_KEY\")\n",
    "\n",
    "\n"
   ]
  },
  {
   "cell_type": "markdown",
   "metadata": {},
   "source": [
    "## 2) Print the URL for the current forecast in New York City\n",
    "\n",
    "This is really just a test to make sure you can still create a URL when the API key is read in as a variable."
   ]
  },
  {
   "cell_type": "code",
   "execution_count": 60,
   "metadata": {},
   "outputs": [
    {
     "name": "stdout",
     "output_type": "stream",
     "text": [
      "Location: New York, United States of America\n",
      "Temperature: 22.2°C\n",
      "Condition: Overcast\n",
      "Wind: 13.0 kph\n",
      "Humidity: 48%\n",
      "http://api.weatherapi.com/v1/forecast.json?key=47fecb2d1a45442286d202155240706&q=New York City&aqi=no\n"
     ]
    }
   ],
   "source": [
    "import requests\n",
    "location=\"New York City\"\n",
    "url = f\"http://api.weatherapi.com/v1/forecast.json?key={api_key}&q={location}&aqi=yes\"\n",
    "response = requests.get(url)\n",
    "\n",
    "if response.status_code == 200:\n",
    "    weather_data = response.json()\n",
    "    print(f\"Location: {weather_data['location']['name']}, {weather_data['location']['country']}\")\n",
    "    print(f\"Temperature: {weather_data['current']['temp_c']}°C\")\n",
    "    print(f\"Condition: {weather_data['current']['condition']['text']}\")\n",
    "    print(f\"Wind: {weather_data['current']['wind_kph']} kph\")\n",
    "    print(f\"Humidity: {weather_data['current']['humidity']}%\")\n",
    "else:\n",
    "    print(\"Failed to retrieve weather data\")\n",
    "\n",
    "print(url)"
   ]
  },
  {
   "cell_type": "markdown",
   "metadata": {
    "collapsed": true,
    "jupyter": {
     "outputs_hidden": true
    }
   },
   "source": [
    "## 2) Compare the air quality for NYC and Toronto, Canada\n",
    "\n",
    "Using PM2.5 measurements, compare the air quality of NYC and Toronto, Canada. If NYC has a higher PM2.5 measurement than Toronto, print \"NYC is worse.\" If Toronto's is higher, print \"Toronto is worse.\"\n",
    "\n",
    "- *Hint: This NYC URL is based on the URL for the current weather of NYC, but is a tiny tiny bit different.*\n",
    "- *Hint: You'll need to add an additional option to the URL to include air quality data*\n",
    "- *Hint: You'll (probably) need multiple variables instead of just using `data` twice*"
   ]
  },
  {
   "cell_type": "code",
   "execution_count": 65,
   "metadata": {},
   "outputs": [
    {
     "name": "stdout",
     "output_type": "stream",
     "text": [
      "NYC is worse\n"
     ]
    }
   ],
   "source": [
    "location=\"New York City\"\n",
    "url = f\"http://api.weatherapi.com/v1/current.json?key={api_key}&q={location}&aqi=yes\"\n",
    "response = requests.get(url)\n",
    "weather_data_ny = response.json()\n",
    "weather_data_ny['current']['air_quality']['pm2_5']\n",
    "\n",
    "location=\"Toronto\"\n",
    "url = f\"http://api.weatherapi.com/v1/current.json?key={api_key}&q={location}&aqi=yes\"\n",
    "response = requests.get(url)\n",
    "weather_data_tr = response.json()\n",
    "weather_data_tr['current']['air_quality']['pm2_5']\n",
    "\n",
    "if weather_data_ny['current']['air_quality']['pm2_5']>weather_data_tr['current']['air_quality']['pm2_5']:\n",
    "    print(\"NYC is worse\")\n",
    "else:\n",
    "    print(\"Toronto is worse\")"
   ]
  },
  {
   "cell_type": "code",
   "execution_count": 66,
   "metadata": {},
   "outputs": [
    {
     "data": {
      "text/plain": [
       "{'location': {'name': 'New York',\n",
       "  'region': 'New York',\n",
       "  'country': 'United States of America',\n",
       "  'lat': 40.71,\n",
       "  'lon': -74.01,\n",
       "  'tz_id': 'America/New_York',\n",
       "  'localtime_epoch': 1718057528,\n",
       "  'localtime': '2024-06-10 18:12'},\n",
       " 'current': {'last_updated_epoch': 1718056800,\n",
       "  'last_updated': '2024-06-10 18:00',\n",
       "  'temp_c': 22.2,\n",
       "  'temp_f': 72.0,\n",
       "  'is_day': 1,\n",
       "  'condition': {'text': 'Overcast',\n",
       "   'icon': '//cdn.weatherapi.com/weather/64x64/day/122.png',\n",
       "   'code': 1009},\n",
       "  'wind_mph': 8.1,\n",
       "  'wind_kph': 13.0,\n",
       "  'wind_degree': 300,\n",
       "  'wind_dir': 'WNW',\n",
       "  'pressure_mb': 1006.0,\n",
       "  'pressure_in': 29.71,\n",
       "  'precip_mm': 0.0,\n",
       "  'precip_in': 0.0,\n",
       "  'humidity': 48,\n",
       "  'cloud': 100,\n",
       "  'feelslike_c': 24.0,\n",
       "  'feelslike_f': 75.2,\n",
       "  'windchill_c': 23.5,\n",
       "  'windchill_f': 74.3,\n",
       "  'heatindex_c': 24.6,\n",
       "  'heatindex_f': 76.2,\n",
       "  'dewpoint_c': 8.7,\n",
       "  'dewpoint_f': 47.7,\n",
       "  'vis_km': 16.0,\n",
       "  'vis_miles': 9.0,\n",
       "  'uv': 6.0,\n",
       "  'gust_mph': 14.0,\n",
       "  'gust_kph': 22.5,\n",
       "  'air_quality': {'co': 207.0,\n",
       "   'no2': 7.5,\n",
       "   'o3': 65.8,\n",
       "   'so2': 1.5,\n",
       "   'pm2_5': 0.7,\n",
       "   'pm10': 1.2,\n",
       "   'us-epa-index': 1,\n",
       "   'gb-defra-index': 1}}}"
      ]
     },
     "execution_count": 66,
     "metadata": {},
     "output_type": "execute_result"
    }
   ],
   "source": [
    "weather_data_ny"
   ]
  },
  {
   "cell_type": "code",
   "execution_count": 67,
   "metadata": {},
   "outputs": [
    {
     "data": {
      "text/plain": [
       "0.7"
      ]
     },
     "execution_count": 67,
     "metadata": {},
     "output_type": "execute_result"
    }
   ],
   "source": [
    "weather_data_ny['current']['air_quality']['pm2_5']"
   ]
  },
  {
   "cell_type": "code",
   "execution_count": 63,
   "metadata": {},
   "outputs": [
    {
     "data": {
      "text/plain": [
       "0.6"
      ]
     },
     "execution_count": 63,
     "metadata": {},
     "output_type": "execute_result"
    }
   ],
   "source": [
    "weather_data_tr['current']['air_quality']['pm2_5']"
   ]
  },
  {
   "cell_type": "markdown",
   "metadata": {},
   "source": [
    "## 2) Print the time zones for both NYC and Toronto.\n",
    "\n",
    "If they have the same time, print \"it is (the time) in both cities.\" If not, print \"It is (nyc time) in NYC and (Toronto time) in Toronto.\"\n",
    "\n",
    "- *Hint: Both cities should have the same local time. If they don't, what's going on? It's a code issue!*\n",
    "- *Hint: f-strings are unwieldy here, I'd just use the comma version of `print`*"
   ]
  },
  {
   "cell_type": "code",
   "execution_count": 29,
   "metadata": {},
   "outputs": [
    {
     "data": {
      "text/plain": [
       "'America/New_York'"
      ]
     },
     "execution_count": 29,
     "metadata": {},
     "output_type": "execute_result"
    }
   ],
   "source": [
    "weather_data_ny['location']['tz_id']"
   ]
  },
  {
   "cell_type": "code",
   "execution_count": 44,
   "metadata": {},
   "outputs": [
    {
     "data": {
      "text/plain": [
       "'America/Toronto'"
      ]
     },
     "execution_count": 44,
     "metadata": {},
     "output_type": "execute_result"
    }
   ],
   "source": [
    "weather_data_tr['location']['tz_id']"
   ]
  },
  {
   "cell_type": "code",
   "execution_count": 31,
   "metadata": {},
   "outputs": [
    {
     "name": "stdout",
     "output_type": "stream",
     "text": [
      "It is (nyc time) in NYC and (Toronto time) in Toronto\n"
     ]
    }
   ],
   "source": [
    "if weather_data_ny['location']['tz_id']==weather_data_tr['location']['tz_id']:\n",
    "    print(\"it is (the time) in both cities\")\n",
    "else:\n",
    "    \n",
    "    print(\"It is (nyc time) in NYC and (Toronto time) in Toronto\")\n",
    "    "
   ]
  },
  {
   "cell_type": "markdown",
   "metadata": {},
   "source": [
    "## 3) Speaking of Canada, don't they have a London up there?\n",
    "\n",
    "Print out every city that is called \"London,\" along with the region and country it is in. Your output should look like:\n",
    "\n",
    "```\n",
    "There is a London in United Kingdom\n",
    "There is a London in Canada\n",
    "```\n",
    "\n",
    "Do **not** print out `Londonderry`, since it isn't actually a London.\n",
    "\n",
    "- *Hint: You'll need an `if` for that last part*"
   ]
  },
  {
   "cell_type": "code",
   "execution_count": 77,
   "metadata": {},
   "outputs": [],
   "source": [
    "location=\"lond\"\n",
    "url=f\"http://api.weatherapi.com/v1/search.json?key={api_key}&q=lond\"\n",
    "response = requests.get(url)\n",
    "weather_data = response.json()"
   ]
  },
  {
   "cell_type": "code",
   "execution_count": 82,
   "metadata": {},
   "outputs": [
    {
     "name": "stdout",
     "output_type": "stream",
     "text": [
      "There is a London in United Kingdom\n",
      "There is a London in Canada\n"
     ]
    }
   ],
   "source": [
    "for a in weather_data:\n",
    "    if a['name'] ==\"London\":\n",
    "        print(f\"There is a London in {a['country']}\")"
   ]
  },
  {
   "cell_type": "code",
   "execution_count": null,
   "metadata": {},
   "outputs": [],
   "source": []
  }
 ],
 "metadata": {
  "kernelspec": {
   "display_name": "Python 3",
   "language": "python",
   "name": "python3"
  },
  "language_info": {
   "codemirror_mode": {
    "name": "ipython",
    "version": 3
   },
   "file_extension": ".py",
   "mimetype": "text/x-python",
   "name": "python",
   "nbconvert_exporter": "python",
   "pygments_lexer": "ipython3",
   "version": "3.8.5"
  }
 },
 "nbformat": 4,
 "nbformat_minor": 4
}
