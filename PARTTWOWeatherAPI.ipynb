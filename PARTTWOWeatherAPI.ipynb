{
 "cells": [
  {
   "cell_type": "markdown",
   "id": "50727726-aff1-4bcb-bbb6-425dbcc1c63d",
   "metadata": {},
   "source": [
    "# 1 What is the URL to the documentation?"
   ]
  },
  {
   "cell_type": "code",
   "execution_count": null,
   "id": "27bbb9b8-1699-4452-a235-7e0db5240655",
   "metadata": {},
   "outputs": [],
   "source": [
    "https://www.weatherapi.com/docs/"
   ]
  },
  {
   "cell_type": "markdown",
   "id": "6e5f1f5e-5d36-4799-bc29-955e172955f4",
   "metadata": {},
   "source": [
    "# 2 Make a request for the current weather where you are born, or somewhere you've lived."
   ]
  },
  {
   "cell_type": "code",
   "execution_count": 7,
   "id": "25ce7fa3-9aca-449c-aab2-659de02075dd",
   "metadata": {},
   "outputs": [],
   "source": [
    "import requests"
   ]
  },
  {
   "cell_type": "code",
   "execution_count": 8,
   "id": "82a0316a-6154-4e9a-9ac9-bb895f0f7d03",
   "metadata": {
    "scrolled": true
   },
   "outputs": [
    {
     "name": "stdout",
     "output_type": "stream",
     "text": [
      "Location: Musashino, Japan\n",
      "Temperature: 17.2°C\n",
      "Condition: Partly cloudy\n",
      "Wind: 3.6 kph\n",
      "Humidity: 80%\n"
     ]
    }
   ],
   "source": [
    "api_key = '47fecb2d1a45442286d202155240706'\n",
    "location = '35.72932019554994, 139.5835103431329'\n",
    "\n",
    "url = f\"http://api.weatherapi.com/v1/current.json?key={api_key}&q={location}&aqi=no\"\n",
    "response = requests.get(url)\n",
    "\n",
    "if response.status_code == 200:\n",
    "    weather_data = response.json()\n",
    "    print(f\"Location: {weather_data['location']['name']}, {weather_data['location']['country']}\")\n",
    "    print(f\"Temperature: {weather_data['current']['temp_c']}°C\")\n",
    "    print(f\"Condition: {weather_data['current']['condition']['text']}\")\n",
    "    print(f\"Wind: {weather_data['current']['wind_kph']} kph\")\n",
    "    print(f\"Humidity: {weather_data['current']['humidity']}%\")\n",
    "else:\n",
    "    print(\"Failed to retrieve weather data\")\n"
   ]
  },
  {
   "cell_type": "markdown",
   "id": "f7a17068-f0d0-4d0f-b31a-59d727dcf17a",
   "metadata": {},
   "source": [
    "# 3 Print out the country this location is in"
   ]
  },
  {
   "cell_type": "code",
   "execution_count": 13,
   "id": "02a6e1b3-a211-4c2e-8c3d-3a10ab3ef658",
   "metadata": {},
   "outputs": [
    {
     "data": {
      "text/plain": [
       "'Japan'"
      ]
     },
     "execution_count": 13,
     "metadata": {},
     "output_type": "execute_result"
    }
   ],
   "source": [
    "weather_data['location']['country']"
   ]
  },
  {
   "cell_type": "markdown",
   "id": "41c45dd2-b12c-462d-ab0b-17fa91528acf",
   "metadata": {},
   "source": [
    "# 4 Print out the difference between the current temperature and how warm it feels. Use \"It feels ___ degrees colder\" or \"It feels ___ degrees warmer,\" not negative numbers."
   ]
  },
  {
   "cell_type": "code",
   "execution_count": 20,
   "id": "35fcc72b-3009-4850-8934-5754570dfc67",
   "metadata": {},
   "outputs": [
    {
     "name": "stdout",
     "output_type": "stream",
     "text": [
      "It feels same\n"
     ]
    }
   ],
   "source": [
    "if weather_data['current']['temp_c']>weather_data['current']['feelslike_c']:\n",
    "    temp_diff=abs(weather_data['current']['temp_c']-weather_data['current']['feelslike_c'])\n",
    "    print(f\"It feels {temp_diff} degrees colder\")\n",
    "elif weather_data['current']['temp_c']<weather_data['current']['feelslike_c']:\n",
    "    temp_diff=abs(weather_data['current']['feelslike_c']-weather_data['current']['temp_c'])\n",
    "    print(f\"It feels {temp_diff} degrees warmer\")\n",
    "else:\n",
    "    print(f\"It feels same\")"
   ]
  },
  {
   "cell_type": "markdown",
   "id": "3d9df329-9de5-455b-9792-fef4c5f509f5",
   "metadata": {},
   "source": [
    "# 5 What's the current temperature at Heathrow International Airport? Use the airport's IATA code to search."
   ]
  },
  {
   "cell_type": "code",
   "execution_count": 28,
   "id": "28f36d65-eab1-4355-ab97-67d0787d22b0",
   "metadata": {},
   "outputs": [],
   "source": [
    "iata_code=\"LHR\"\n",
    "url = f\"http://api.weatherapi.com/v1/current.json?key={api_key}&q={iata_code}&aqi=no\"\n",
    "response = requests.get(url)\n",
    "weather_data = response.json()\n",
    "temp_lhr=weather_data['current']['temp_c']"
   ]
  },
  {
   "cell_type": "code",
   "execution_count": 30,
   "id": "acbf0c57-e5b5-44e7-b319-5b369fbe8a75",
   "metadata": {},
   "outputs": [
    {
     "name": "stdout",
     "output_type": "stream",
     "text": [
      "The current tempereature in Hhathrow airport is 16.3 °C\n"
     ]
    }
   ],
   "source": [
    "print(f\"The current tempereature in Hhathrow airport is {temp_lhr} °C\")"
   ]
  },
  {
   "cell_type": "markdown",
   "id": "c65b0bcd-41c1-4dce-ac81-c165ef9d0118",
   "metadata": {},
   "source": [
    "# 6 What URL would I use to request a 3-day forecast at Heathrow?"
   ]
  },
  {
   "cell_type": "code",
   "execution_count": 41,
   "id": "a89f1e6c-55ae-4429-902c-6a56e287c287",
   "metadata": {},
   "outputs": [],
   "source": [
    "iata_code=\"LHR\"\n",
    "url = f\"http://api.weatherapi.com/v1/forecast.json?key={api_key}&q={iata_code}&days=3&aqi=no\""
   ]
  },
  {
   "cell_type": "markdown",
   "id": "9d8e8fb9-c209-4391-bb73-5e1de288b8af",
   "metadata": {},
   "source": [
    "# 7 Print the date of each of the 3 days you're getting a forecast for."
   ]
  },
  {
   "cell_type": "code",
   "execution_count": 72,
   "id": "3cef1266-4e29-4e31-b2b4-f3619f00dfa3",
   "metadata": {},
   "outputs": [],
   "source": [
    "iata_code=\"LHR\"\n",
    "url = f\"http://api.weatherapi.com/v1/forecast.json?key={api_key}&q={iata_code}&days=3&aqi=no\"\n",
    "response = requests.get(url)\n",
    "weather_data = response.json()"
   ]
  },
  {
   "cell_type": "code",
   "execution_count": 55,
   "id": "a1ba382e-19a9-4803-896f-b992b51d9102",
   "metadata": {},
   "outputs": [
    {
     "name": "stdout",
     "output_type": "stream",
     "text": [
      "2024-06-07\n",
      "2024-06-08\n",
      "2024-06-09\n"
     ]
    }
   ],
   "source": [
    "for i in range(0,len(weather_data['forecast']['forecastday'])):\n",
    "    print(weather_data['forecast']['forecastday'][i]['date'])"
   ]
  },
  {
   "cell_type": "markdown",
   "id": "fdd0312b-4b72-4271-b4ad-90441b8c8000",
   "metadata": {},
   "source": [
    "# 8 Print the maximum temperature of each of the days."
   ]
  },
  {
   "cell_type": "code",
   "execution_count": 80,
   "id": "0737c66a-aa74-4d63-b5dd-ad2249f1442f",
   "metadata": {},
   "outputs": [
    {
     "name": "stdout",
     "output_type": "stream",
     "text": [
      "18.1\n",
      "17.7\n",
      "17.4\n"
     ]
    }
   ],
   "source": [
    "for i in range(0,len(weather_data['forecast']['forecastday'])):\n",
    "    print(weather_data['forecast']['forecastday'][i]['day']['maxtemp_c'])"
   ]
  },
  {
   "cell_type": "markdown",
   "id": "ddd1ba21-21be-41a2-a74c-f04db11f2f10",
   "metadata": {},
   "source": [
    "# 9 Print only the day with the highest maximum temperature"
   ]
  },
  {
   "cell_type": "code",
   "execution_count": 83,
   "id": "fa46d739-9b7a-4730-b7a0-f28e2036faff",
   "metadata": {},
   "outputs": [
    {
     "name": "stdout",
     "output_type": "stream",
     "text": [
      "2024-06-07\n"
     ]
    }
   ],
   "source": [
    "temp_list=[]\n",
    "for i in range(0,len(weather_data['forecast']['forecastday'])):\n",
    "    temp_list.append(weather_data['forecast']['forecastday'][i]['day']['maxtemp_c'])\n",
    "                     \n",
    "for i in range(0,len(weather_data['forecast']['forecastday'])):\n",
    "    if weather_data['forecast']['forecastday'][i]['day']['maxtemp_c']==max(temp_list):\n",
    "        print(weather_data['forecast']['forecastday'][i]['date'])"
   ]
  }
 ],
 "metadata": {
  "kernelspec": {
   "display_name": "Python 3",
   "language": "python",
   "name": "python3"
  },
  "language_info": {
   "codemirror_mode": {
    "name": "ipython",
    "version": 3
   },
   "file_extension": ".py",
   "mimetype": "text/x-python",
   "name": "python",
   "nbconvert_exporter": "python",
   "pygments_lexer": "ipython3",
   "version": "3.8.5"
  }
 },
 "nbformat": 4,
 "nbformat_minor": 5
}
